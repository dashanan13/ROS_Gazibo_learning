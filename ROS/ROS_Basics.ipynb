{
 "cells": [
  {
   "cell_type": "markdown",
   "id": "4c153a66-ace7-45da-a765-8eed67b33b05",
   "metadata": {},
   "source": [
    "#Interact with robots:\n",
    "a. Services:\n",
    "    First, you started the service in order to make it available for anyone who wants to call it. Then, you executed a command that called that service. \n",
    "    When you call a service, the robot has to wait until the service has ended before doing something else\n",
    "b. Actions:\n",
    "    First, you started the Action Server by issuing the first command. Then, you called that Action by issuing the second command.\n",
    "    When you call an action, your robot can still keep doing something else while performing the action.\n",
    "    An action allows you to provide feedback while the action is being performed."
   ]
  },
  {
   "cell_type": "code",
   "execution_count": null,
   "id": "87bd2b77-bafb-403a-a4ea-ddb3e9d5e66c",
   "metadata": {},
   "outputs": [],
   "source": [
    "You can see the nodes, and their associated topics, services, and actions, using the list subcommands of the respective commands:"
   ]
  }
 ],
 "metadata": {
  "kernelspec": {
   "display_name": "Python 3 (ipykernel)",
   "language": "python",
   "name": "python3"
  },
  "language_info": {
   "codemirror_mode": {
    "name": "ipython",
    "version": 3
   },
   "file_extension": ".py",
   "mimetype": "text/x-python",
   "name": "python",
   "nbconvert_exporter": "python",
   "pygments_lexer": "ipython3",
   "version": "3.8.3"
  }
 },
 "nbformat": 4,
 "nbformat_minor": 5
}
