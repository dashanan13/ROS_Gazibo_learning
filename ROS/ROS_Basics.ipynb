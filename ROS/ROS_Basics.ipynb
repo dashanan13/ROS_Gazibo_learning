{
 "cells": [
  {
   "cell_type": "markdown",
   "id": "b8e4e238-695f-4146-a448-89b1f8080da5",
   "metadata": {},
   "source": [
    "### Interact with robots:"
   ]
  },
  {
   "cell_type": "markdown",
   "id": "d1e4a7ad-4f77-48dd-8cbc-d8e8cc6cf7de",
   "metadata": {},
   "source": [
    "1. **Services:**\n",
    "    - First, you started the service in order to make it available for anyone who wants to call it.\n",
    "    - Then, you executed a command that called that service.\n",
    "   When you call a service, the robot has to wait until the service has ended before doing something else\n",
    "\n",
    "\n",
    "2. **Actions:**\n",
    "    - First, you start the Action Server by issuing the first command.\n",
    "    - Then, you called that Action by issuing the second command.\n",
    "   When you call an action, your robot can still keep doing something else while performing the action.\n",
    "   An action allows you to provide feedback while the action is being performed."
   ]
  },
  {
   "cell_type": "markdown",
   "id": "17c3d26e-9910-4801-b4db-bd564e2d0b8e",
   "metadata": {},
   "source": [
    "#### You can see the nodes, and their associated topics, services, and actions, using the list subcommands of the respective commands:\n",
    "> 1. ros2 node list\n",
    "> 2. ros2 topic list\n",
    "> 3. ros2 service list\n",
    "> 4. ros2 action listst"
   ]
  },
  {
   "cell_type": "markdown",
   "id": "40ae26fa-b3bc-4119-8094-b28a0546f7de",
   "metadata": {},
   "source": [
    "### Tools: \n",
    "- **ros2 tool**: is how the user manages, introspects, and interacts with a ROS system. It supports multiple commands that target different aspects of the system and its operation. One might use it to start a node, set a parameter, listen to a topic, and many more. The ros2 tool is part of the core ROS 2 installation.\n",
    "\n",
    "- **rqt**: is a graphical user interface (GUI) tool for ROS 2. Everything done in rqt can be done on the command line, but rqt provides a more user-friendly way to manipulate ROS 2 elements.\n",
    "    > install rqt:\n",
    "    > - sudo apt update\n",
    "    > - sudo apt install ~nros-humble-rqt*\n",
    "\n",
    "    > run rqt:\n",
    "    > - rqt  "
   ]
  },
  {
   "cell_type": "raw",
   "id": "4e397da2-4179-4a6b-aa58-d1491607680a",
   "metadata": {},
   "source": []
  },
  {
   "cell_type": "markdown",
   "id": "df758b9a-927c-45eb-a189-3e7f77ce439a",
   "metadata": {},
   "source": [
    "#### NODES\n",
    "- Each node in ROS should be responsible for a single, modular purpose, e.g. controlling the wheel motors or publishing the sensor data from a laser range-finder. \n",
    "- Each node can send and receive data from other nodes via topics, services, actions, or parameters.\n",
    "- Nodes are often a complex combination of publishers, subscribers, service servers, service clients, action servers, and action clients, all at the same time.\n",
    "![alternative text](./images/ros_nodes_publishers.gif)\n",
    "\n",
    "<br>\n",
    "\n",
    "-  **node list**: ros2 node list\n",
    "-  **node info**: ros2 node info '/node_name'"
   ]
  },
  {
   "cell_type": "markdown",
   "id": "6ae22eed-f040-490d-b16d-9a1a11934be9",
   "metadata": {},
   "source": [
    "#### Interfaces\n"
   ]
  },
  {
   "cell_type": "code",
   "execution_count": null,
   "id": "570d50ec-722b-4337-91b3-e4ccfbc8fd0b",
   "metadata": {},
   "outputs": [],
   "source": []
  }
 ],
 "metadata": {
  "kernelspec": {
   "display_name": "Python 3 (ipykernel)",
   "language": "python",
   "name": "python3"
  },
  "language_info": {
   "codemirror_mode": {
    "name": "ipython",
    "version": 3
   },
   "file_extension": ".py",
   "mimetype": "text/x-python",
   "name": "python",
   "nbconvert_exporter": "python",
   "pygments_lexer": "ipython3",
   "version": "3.10.12"
  }
 },
 "nbformat": 4,
 "nbformat_minor": 5
}
