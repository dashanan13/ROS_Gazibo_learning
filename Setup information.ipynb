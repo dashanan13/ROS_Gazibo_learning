{
 "cells": [
  {
   "cell_type": "markdown",
   "id": "207f80d4-8066-4fa5-96fd-956479acb9f2",
   "metadata": {},
   "source": []
  },
  {
   "cell_type": "code",
   "execution_count": null,
   "id": "aef0f2b0-0bbb-4e1e-8d7a-3490436b8595",
   "metadata": {},
   "outputs": [],
   "source": [
    "### Code for install: \n",
    "\n",
    "#Install SSH\n",
    "sudo apt update -y\n",
    "sudo apt upgrade -y\n",
    "sudo apt install openssh-server #Install the OpenSSH Server\n",
    "sudo ufw status #Configure Firewall Rules\n",
    "sudo ufw enable # enable UFW (ubuntu firewall)\n",
    "sudo ufw allow ssh #allow inbound SSH connections by adding a new firewall rule\n",
    "\n",
    "#Install Jupyter \n",
    "sudo apt update -y\n",
    "sudo apt install python3-pip -y \n",
    "sudo pip3 install jupyterlab -y\n",
    "jupyter lab --no-browser --port=80808\n",
    "ssh -L 8080:localhost:8080 user@<remote-server-name #new shell\n",
    "\n",
    "#Install Git\n",
    "sudo apt update -y\n",
    "sudo apt install git -y\n",
    "git config --global user.email \"mohit13@outlook.com\"\n",
    "git config --global user.name \"Mohit Sharma\"\n",
    "\n",
    "#Cache credentials\n",
    "For Windows use: git config --global credential.helper wincred\n",
    "For Linux use: \n",
    "git config --global credential.helper cache // If you want to cache the credentials for some time (default 15 minutes)\n",
    "OR\n",
    "git config --global credential.helper store // if you want to store the credentials for ever (considered unsafe)\n",
    "\n",
    "\n",
    "# Ros packages \n",
    "sudo apt install terminator -y\n",
    "sudo apt install ros-humble-joint-state-publisher-gui -y\n",
    "sudo apt install ros-humble-xacro -y\n",
    "sudo apt install ros-humble-gazebo-ros -y\n",
    "sudo apt install ros-humble-joint-state-publisher-gui -y\n",
    "sudo apt install ros-humble-ros2-control -y\n",
    "sudo apt install ros-humble-ros2-controllers -y\n",
    "sudo apt install ros-humble-gazebo-ros2-control -y\n",
    "sudo apt install ros-humble-moveit -y\n",
    "sudo apt install ros-humble-urdf-tutorial -y\n",
    "sudo apt install ros-humble-tf2-tools -y\n",
    "\n",
    "sudo apt install python3-colcon-common-extensions -y\n",
    "\n",
    "\n",
    "### always source setup.bash from workspace: source ./install/setup.bash"
   ]
  },
  {
   "cell_type": "markdown",
   "id": "74d0944d-b40b-4df9-901c-7f0e9383e2a9",
   "metadata": {},
   "source": [
    "### Install: \n",
    "1. (Optional, only for cloud ubuntu servers) Ubuntu desktop: https://phoenixnap.com/kb/how-to-install-a-gui-on-ubuntu\n",
    "2. Configure Chrome desktop: https://idroot.us/install-chrome-remote-desktop-ubuntu-20-04/\n",
    "3. Install ROS2: https://docs.ros.org/en/humble/Installation/Ubuntu-Install-Debians.html, check version: printenv ROS_DISTRO\n",
    "4. Install Moveit: https://docs.ros.org/en/kinetic/api/moveit_tutorials/html/doc/quickstart_in_rviz/quickstart_in_rviz_tutorial.html"
   ]
  },
  {
   "cell_type": "markdown",
   "id": "a8a3faf9-3632-4830-aeb6-03410e5d56f6",
   "metadata": {},
   "source": [
    "### Setup Jupyter lab on Ubuntu\n",
    "1. Install pip: sudo apt install python3-pip -y \n",
    "2. Install Jupyter Lab on remote Ubuntu: sudo pip3 install jupyterlab -y\n",
    "3. Start Jupyter lab process on remote Ubuntu: jupyter lab --no-browser --port=8080\n",
    "4. Connect to Jupyter Lab from a native computer, and run this command on the native computer for SSH tunneling: ssh -L 8080:localhost:8080 user@<remote-server-name"
   ]
  },
  {
   "cell_type": "code",
   "execution_count": null,
   "id": "4e2cc821-e65a-4247-9f8b-58f35f60e9ec",
   "metadata": {},
   "outputs": [],
   "source": [
    "# Working with package\n",
    "Navigate to workspace\n",
    "create new project: ros2 pkg create <project name>\n",
    "build ros2 packages: colcon build\n",
    "set context: . install/setup.bash\n",
    "launch urdf file: ros2 launch urdf_tutorial display.launch.py model:=<absolute path of the URDF file inthe project>"
   ]
  },
  {
   "cell_type": "code",
   "execution_count": null,
   "id": "9a8ebbc3-27be-4ee4-975a-30b7ea1d1f30",
   "metadata": {},
   "outputs": [],
   "source": [
    "# Spawn robot in Gazebo\n",
    "#Gazebo needs inertia and collision\n",
    "\n",
    "#start virgin gazebo\n",
    "ros2 launch gazebo_ros gazebo.launch.py\n",
    "\n",
    "#add robot to gazebo\n",
    "ros2 run gazebo_ros spawn_entity.py -topic robot_description -entity snake_urdf\n"
   ]
  }
 ],
 "metadata": {
  "kernelspec": {
   "display_name": "Python 3 (ipykernel)",
   "language": "python",
   "name": "python3"
  },
  "language_info": {
   "codemirror_mode": {
    "name": "ipython",
    "version": 3
   },
   "file_extension": ".py",
   "mimetype": "text/x-python",
   "name": "python",
   "nbconvert_exporter": "python",
   "pygments_lexer": "ipython3",
   "version": "3.10.12"
  }
 },
 "nbformat": 4,
 "nbformat_minor": 5
}
