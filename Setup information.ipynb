{
 "cells": [
  {
   "cell_type": "markdown",
   "id": "a8a3faf9-3632-4830-aeb6-03410e5d56f6",
   "metadata": {},
   "source": [
    "# Setup Jupyter lab on Ubuntu\n",
    "1. Install pip: sudo apt install python3-pip -y \n",
    "2. Install Jupyter Lab on remote Ubuntu: sudo pip3 install jupyterlab -y\n",
    "3. Start Jupyter lab process on remote Ubuntu: jupyter lab --no-browser --port=8080\n",
    "4. Connect to Jupyter Lab from a native computer, and run this command on the native computer for SSH tunneling: ssh -L 8080:localhost:8080 <user>@<remote server>"
   ]
  }
 ],
 "metadata": {
  "kernelspec": {
   "display_name": "Python 3 (ipykernel)",
   "language": "python",
   "name": "python3"
  },
  "language_info": {
   "codemirror_mode": {
    "name": "ipython",
    "version": 3
   },
   "file_extension": ".py",
   "mimetype": "text/x-python",
   "name": "python",
   "nbconvert_exporter": "python",
   "pygments_lexer": "ipython3",
   "version": "3.10.12"
  }
 },
 "nbformat": 4,
 "nbformat_minor": 5
}
