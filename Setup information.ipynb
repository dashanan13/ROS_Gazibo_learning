{
 "cells": [
  {
   "cell_type": "markdown",
   "id": "207f80d4-8066-4fa5-96fd-956479acb9f2",
   "metadata": {},
   "source": [
    "## FYI: \n",
    "### Concepts\n",
    "\n",
    "RViz, Gazebo, and MoveIt are three distinct tools commonly used in the field of robotics, particularly for robot simulation, visualization, and motion planning. Here's a brief overview of each:\n",
    "\n",
    "#### RViz (Robot Visualization):\n",
    "Purpose: RViz is a 3D visualization tool that allows users to visualize sensor data, robot models, and other information from a robotic system in real-time.\n",
    "Features: It provides a graphical interface to display information such as point clouds, robot models, sensor data, and more. RViz is often used for debugging, monitoring, and gaining insights into the robot's perception and state.\n",
    "Use Case: RViz is commonly used during the development and testing phases of a robot to visualize and understand how the robot perceives its environment.\n",
    "\n",
    "#### Gazebo:\n",
    "Purpose: Gazebo is a robot simulation tool that provides a physics engine for simulating the dynamics of robots and their interactions with the environment.\n",
    "Features: Gazebo simulates the physics of objects, sensors, and environmental factors, allowing users to test and validate robot behaviors in a simulated environment. It is often used to simulate robot movements, test control algorithms, and assess the robot's response to different scenarios.\n",
    "Use Case: Gazebo is commonly used for testing and validating robotic algorithms before deploying them on a physical robot. It helps reduce the risk of errors and allows developers to iterate quickly.\n",
    "\n",
    "#### MoveIt:\n",
    "Purpose: MoveIt is a motion planning framework designed for manipulation tasks. It helps robots plan and execute complex motion sequences, especially in scenarios involving robotic arms and manipulators.\n",
    "Features: MoveIt provides tools for motion planning, collision detection, inverse kinematics, and trajectory execution. It allows users to plan paths for robots in a given environment, taking into account the robot's physical constraints and the surrounding obstacles.\n",
    "Use Case: MoveIt is commonly used in applications where precise and collision-free motion planning is crucial, such as in industrial automation, grasping objects, and manipulation tasks.\n",
    "In summary, RViz is a visualization tool, Gazebo is a simulation tool, and MoveIt is a motion planning framework. These tools are often used together in the development and testing of robotic systems to facilitate a comprehensive approach from visualization to simulation and motion planning."
   ]
  },
  {
   "cell_type": "raw",
   "id": "89ac9042-d36f-42a5-86be-abb67d9459d8",
   "metadata": {},
   "source": [
    "### Code for install: \n",
    "\n",
    "####Install SSH\n",
    "sudo apt update -y\n",
    "sudo apt upgrade -y\r\n",
    "sudo apt install openssh-server #Install the OpenSSH Severr\r\n",
    "sudo ufw status #Configure Firewall RulSH\r\n",
    "sudo ufw enable # enable UFW (ubunturewallall)\r\n",
    "sudo ufw allow ssh #allow inbound SSH connections by adding a new wall rule\n",
    "\n",
    "re<bI2. Install Jupy\n",
    "sudo apt update -y\n",
    "ter sudo apt install python3-pip -y \n",
    "sudo pip3 install jupyterla\n",
    " -ypjupyter lab --no-browser --port=80\n",
    "   ssh -L 8080:localhost:8080 user@<remote-server-name #nhelle\n",
    "####Install Git\n",
    "sudo apt update -y\n",
    "sudo apt install git -y\n",
    "ule:"
   ]
  },
  {
   "cell_type": "markdown",
   "id": "74d0944d-b40b-4df9-901c-7f0e9383e2a9",
   "metadata": {},
   "source": [
    "### Install: \n",
    "1. (Optional, only for cloud ubuntu servers) Ubuntu desktop: https://phoenixnap.com/kb/how-to-install-a-gui-on-ubuntu\n",
    "2. Configure Chrome desktop: https://idroot.us/install-chrome-remote-desktop-ubuntu-20-04/\n",
    "3. Install ROS2: https://docs.ros.org/en/humble/Installation/Ubuntu-Install-Debians.html, check version: printenv ROS_DISTRO\n",
    "4. Install Moveit: https://docs.ros.org/en/kinetic/api/moveit_tutorials/html/doc/quickstart_in_rviz/quickstart_in_rviz_tutorial.html"
   ]
  },
  {
   "cell_type": "markdown",
   "id": "a8a3faf9-3632-4830-aeb6-03410e5d56f6",
   "metadata": {},
   "source": [
    "### Setup Jupyter lab on Ubuntu\n",
    "1. Install pip: sudo apt install python3-pip -y \n",
    "2. Install Jupyter Lab on remote Ubuntu: sudo pip3 install jupyterlab -y\n",
    "3. Start Jupyter lab process on remote Ubuntu: jupyter lab --no-browser --port=8080\n",
    "4. Connect to Jupyter Lab from a native computer, and run this command on the native computer for SSH tunneling: ssh -L 8080:localhost:8080 user@<remote-server-name"
   ]
  },
  {
   "cell_type": "code",
   "execution_count": null,
   "id": "4e2cc821-e65a-4247-9f8b-58f35f60e9ec",
   "metadata": {},
   "outputs": [],
   "source": []
  }
 ],
 "metadata": {
  "kernelspec": {
   "display_name": "Python 3 (ipykernel)",
   "language": "python",
   "name": "python3"
  },
  "language_info": {
   "codemirror_mode": {
    "name": "ipython",
    "version": 3
   },
   "file_extension": ".py",
   "mimetype": "text/x-python",
   "name": "python",
   "nbconvert_exporter": "python",
   "pygments_lexer": "ipython3",
   "version": "3.10.12"
  }
 },
 "nbformat": 4,
 "nbformat_minor": 5
}
