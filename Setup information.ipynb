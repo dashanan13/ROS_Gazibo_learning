{
 "cells": [
  {
   "cell_type": "markdown",
   "id": "74d0944d-b40b-4df9-901c-7f0e9383e2a9",
   "metadata": {},
   "source": [
    "### Install: \n",
    "1. Ubuntu desktop: https://phoenixnap.com/kb/how-to-install-a-gui-on-ubuntu\n",
    "2. Configure Chrome desktop: https://idroot.us/install-chrome-remote-desktop-ubuntu-20-04/\n",
    "3. Install ROS2: https://docs.ros.org/en/humble/Installation/Ubuntu-Install-Debians.html, check version: printenv ROS_DISTRO\n",
    "4. Install Moveit: https://docs.ros.org/en/kinetic/api/moveit_tutorials/html/doc/quickstart_in_rviz/quickstart_in_rviz_tutorial.html"
   ]
  },
  {
   "cell_type": "markdown",
   "id": "a8a3faf9-3632-4830-aeb6-03410e5d56f6",
   "metadata": {},
   "source": [
    "### Setup Jupyter lab on Ubuntu\n",
    "1. Install pip: sudo apt install python3-pip -y \n",
    "2. Install Jupyter Lab on remote Ubuntu: sudo pip3 install jupyterlab -y\n",
    "3. Start Jupyter lab process on remote Ubuntu: jupyter lab --no-browser --port=8080\n",
    "4. Connect to Jupyter Lab from a native computer, and run this command on the native computer for SSH tunneling: ssh -L 8080:localhost:8080 <user>@<remote server>"
   ]
  },
  {
   "cell_type": "code",
   "execution_count": null,
   "id": "4e2cc821-e65a-4247-9f8b-58f35f60e9ec",
   "metadata": {},
   "outputs": [],
   "source": []
  }
 ],
 "metadata": {
  "kernelspec": {
   "display_name": "Python 3 (ipykernel)",
   "language": "python",
   "name": "python3"
  },
  "language_info": {
   "codemirror_mode": {
    "name": "ipython",
    "version": 3
   },
   "file_extension": ".py",
   "mimetype": "text/x-python",
   "name": "python",
   "nbconvert_exporter": "python",
   "pygments_lexer": "ipython3",
   "version": "3.10.12"
  }
 },
 "nbformat": 4,
 "nbformat_minor": 5
}
