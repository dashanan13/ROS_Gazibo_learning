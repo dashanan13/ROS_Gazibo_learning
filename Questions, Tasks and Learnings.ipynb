{
 "cells": [
  {
   "cell_type": "code",
   "execution_count": null,
   "id": "6de0a2fe-c1ba-47bb-85bd-d28f2dcae147",
   "metadata": {},
   "outputs": [],
   "source": [
    "#Pending tasks\n",
    "Move robot with commands and nodes"
   ]
  },
  {
   "cell_type": "code",
   "execution_count": null,
   "id": "34fc069f-f587-4fa1-9676-9a2d74f11e24",
   "metadata": {},
   "outputs": [],
   "source": [
    "#Questions\n",
    "Plugins to choose"
   ]
  },
  {
   "cell_type": "code",
   "execution_count": null,
   "id": "59584d64-3019-4547-9ae5-6290ac7993a8",
   "metadata": {},
   "outputs": [],
   "source": [
    "#Learnings:\n",
    "Building Python package generates a warning \"SetuptoolsDeprecationWarning: setup.py install is deprecated. Use build and pip and other standards-based tools.\"\n",
    "This is due to the packaging process of python packages being changed (https://blog.ganssle.io/articles/2021/10/setup-py-deprecated.html#summary)\n",
    "Temperory solution: Dwngrade setup tools to 58.2.0: pip install setuptools==58.2.0\n",
    "\n",
    "!!!Always source after build!!!\n",
    "cd <workspace>\n",
    "colcon build\n",
    "./install setup.bash\n",
    "\n",
    "\n",
    "Generate URDF file from xacro file\n",
    "ros2 run xacro xacro snake_robot_description/urdf/snake_urdf.xacro  > snake_urdf_generated.urdf"
   ]
  },
  {
   "cell_type": "code",
   "execution_count": null,
   "id": "251d84b4-b76f-4594-a929-6764dbea0bc1",
   "metadata": {},
   "outputs": [],
   "source": [
    "#Books\n",
    "A Concise Introduction to Robot Programming with ROS2 Paperback – Import, 30 September 2022\n",
    "https://www.amazon.in/Concise-Introduction-Robot-Programming-ROS2/dp/1032264659\n",
    "\n",
    "Mastering ROS for Robotics Programming: Best practices and troubleshooting solutions when working with ROS Paperback – Import, 10 August 2021\n",
    "https://www.amazon.in/Mastering-ROS-Robotics-Programming-troubleshooting/dp/1801071020/ref=pd_bxgy_d_sccl_1/262-7212592-7721244?pd_rd_w=y2M8D&content-id=amzn1.sym.2f895d58-7662-42b2-9a98-3a18d26bef33&pf_rd_p=2f895d58-7662-42b2-9a98-3a18d26bef33&pf_rd_r=BNDQ485E2S8JFF6HQS07&pd_rd_wg=BiOKR&pd_rd_r=4de1d2c3-d2a1-4162-9f9c-908665b277dd&pd_rd_i=1801071020&psc=1\n",
    "\n",
    "Robot Operating System (ROS) The Complete Reference (Volume 7)\n",
    "https://link.springer.com/book/10.1007/978-3-031-09062-2\n",
    "\n",
    "BUILDING SMART ROBOTS USING ROS - DESIGN, BUILD, SIMULATE, PROTOTYPE AND CONTROL SMART ROBOTS USING ROS, MACHINE LEARNING AND REACT NATIVE PLATFORM\n",
    "https://www.platekompaniet.no/bok/historie-og-samfunn/samfunn-og-samfunnsvitenskap/pedagogikk/building-smart-robots-using-ros-design-build-simulate-prototype-and-control-smart-robots-using-ros-machine-learning-and-react-native-platform-bok-pocket?gad_source=1&gclid=CjwKCAiAs6-sBhBmEiwA1Nl8syJ6pQhaBSsHHvsrA8JaQgaY554dPtfWJguuahaX-8j0Usn7pQwvCxoCbfUQAvD_BwE\n",
    "\n",
    "Robot Operating System (ROS) for Absolute Beginners\n",
    "https://bokreolen.no/robot-operating-system-ros-for-absolute-beginners-robotics-programming-made-easy_lentin-joseph_9781484277492\n",
    "\n",
    "Hands-On ROS for Robotics Programming\n",
    "https://bokreolen.no/hands-on-ros-for-robotics-programming-program-highly-autonomous-and-ai-capable-mobile-robots-powered-by-ros_bernardo-ronquillo-japon_9781838551308?utm_source=google-shopping&utm_medium=cpc&utm_campaign=&gad_source=1&gclid=CjwKCAiAs6-sBhBmEiwA1Nl8syd5g6X9hqqgPt12mp9fkwPrsBOEMvblz0Yi5ecsGpJ_xZaohZQVmxoC4NYQAvD_BwE"
   ]
  },
  {
   "cell_type": "code",
   "execution_count": null,
   "id": "910dbb8a-0df2-463e-a778-59350468d485",
   "metadata": {},
   "outputs": [],
   "source": [
    "### Concepts\n",
    "\n",
    "RViz, Gazebo, and MoveIt are three distinct tools commonly used in the field of robotics, particularly for robot simulation, visualization, and motion planning. Here's a brief overview of each:\n",
    "\n",
    "#### RViz (Robot Visualization):\n",
    "Purpose: RViz is a 3D visualization tool that allows users to visualize sensor data, robot models, and other information from a robotic system in real-time.\n",
    "Features: It provides a graphical interface to display information such as point clouds, robot models, sensor data, and more. RViz is often used for debugging, monitoring, and gaining insights into the robot's perception and state.\n",
    "Use Case: RViz is commonly used during the development and testing phases of a robot to visualize and understand how the robot perceives its environment.\n",
    "\n",
    "#### Gazebo:\n",
    "Purpose: Gazebo is a robot simulation tool that provides a physics engine for simulating the dynamics of robots and their interactions with the environment.\n",
    "Features: Gazebo simulates the physics of objects, sensors, and environmental factors, allowing users to test and validate robot behaviors in a simulated environment. It is often used to simulate robot movements, test control algorithms, and assess the robot's response to different scenarios.\n",
    "Use Case: Gazebo is commonly used for testing and validating robotic algorithms before deploying them on a physical robot. It helps reduce the risk of errors and allows developers to iterate quickly.\n",
    "\n",
    "#### MoveIt:\n",
    "Purpose: MoveIt is a motion planning framework designed for manipulation tasks. It helps robots plan and execute complex motion sequences, especially in scenarios involving robotic arms and manipulators.\n",
    "Features: MoveIt provides tools for motion planning, collision detection, inverse kinematics, and trajectory execution. It allows users to plan paths for robots in a given environment, taking into account the robot's physical constraints and the surrounding obstacles.\n",
    "Use Case: MoveIt is commonly used in applications where precise and collision-free motion planning is crucial, such as in industrial automation, grasping objects, and manipulation tasks.\n",
    "In summary, RViz is a visualization tool, Gazebo is a simulation tool, and MoveIt is a motion planning framework. These tools are often used together in the development and testing of robotic systems to facilitate a comprehensive approach from visualization to simulation and motion planning."
   ]
  },
  {
   "cell_type": "code",
   "execution_count": null,
   "id": "af7cea1e-7d17-4672-b490-df1e55c2de42",
   "metadata": {},
   "outputs": [],
   "source": [
    "The 2 most important communication features in ROS2 are Topics and Services.\n",
    "\n",
    "Topics are used for data streams, and Services for a client/server interaction."
   ]
  }
 ],
 "metadata": {
  "kernelspec": {
   "display_name": "Python 3 (ipykernel)",
   "language": "python",
   "name": "python3"
  },
  "language_info": {
   "codemirror_mode": {
    "name": "ipython",
    "version": 3
   },
   "file_extension": ".py",
   "mimetype": "text/x-python",
   "name": "python",
   "nbconvert_exporter": "python",
   "pygments_lexer": "ipython3",
   "version": "3.10.12"
  }
 },
 "nbformat": 4,
 "nbformat_minor": 5
}
