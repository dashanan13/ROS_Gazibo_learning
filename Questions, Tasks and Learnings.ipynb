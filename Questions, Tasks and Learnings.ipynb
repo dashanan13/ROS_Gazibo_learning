{
 "cells": [
  {
   "cell_type": "code",
   "execution_count": null,
   "id": "6de0a2fe-c1ba-47bb-85bd-d28f2dcae147",
   "metadata": {},
   "outputs": [],
   "source": [
    "#Pending tasks\n",
    "Move robot with commands and nodes"
   ]
  },
  {
   "cell_type": "code",
   "execution_count": null,
   "id": "34fc069f-f587-4fa1-9676-9a2d74f11e24",
   "metadata": {},
   "outputs": [],
   "source": [
    "#Questions\n",
    "Plugins to choose"
   ]
  },
  {
   "cell_type": "code",
   "execution_count": null,
   "id": "251d84b4-b76f-4594-a929-6764dbea0bc1",
   "metadata": {},
   "outputs": [],
   "source": [
    "#Books\n",
    "A Concise Introduction to Robot Programming with ROS2 Paperback – Import, 30 September 2022\n",
    "https://www.amazon.in/Concise-Introduction-Robot-Programming-ROS2/dp/1032264659\n",
    "\n",
    "Mastering ROS for Robotics Programming: Best practices and troubleshooting solutions when working with ROS Paperback – Import, 10 August 2021\n",
    "https://www.amazon.in/Mastering-ROS-Robotics-Programming-troubleshooting/dp/1801071020/ref=pd_bxgy_d_sccl_1/262-7212592-7721244?pd_rd_w=y2M8D&content-id=amzn1.sym.2f895d58-7662-42b2-9a98-3a18d26bef33&pf_rd_p=2f895d58-7662-42b2-9a98-3a18d26bef33&pf_rd_r=BNDQ485E2S8JFF6HQS07&pd_rd_wg=BiOKR&pd_rd_r=4de1d2c3-d2a1-4162-9f9c-908665b277dd&pd_rd_i=1801071020&psc=1\n",
    "\n",
    "Robot Operating System (ROS) The Complete Reference (Volume 7)\n",
    "https://link.springer.com/book/10.1007/978-3-031-09062-2\n",
    "\n",
    "BUILDING SMART ROBOTS USING ROS - DESIGN, BUILD, SIMULATE, PROTOTYPE AND CONTROL SMART ROBOTS USING ROS, MACHINE LEARNING AND REACT NATIVE PLATFORM\n",
    "https://www.platekompaniet.no/bok/historie-og-samfunn/samfunn-og-samfunnsvitenskap/pedagogikk/building-smart-robots-using-ros-design-build-simulate-prototype-and-control-smart-robots-using-ros-machine-learning-and-react-native-platform-bok-pocket?gad_source=1&gclid=CjwKCAiAs6-sBhBmEiwA1Nl8syJ6pQhaBSsHHvsrA8JaQgaY554dPtfWJguuahaX-8j0Usn7pQwvCxoCbfUQAvD_BwE\n",
    "\n",
    "Robot Operating System (ROS) for Absolute Beginners\n",
    "https://bokreolen.no/robot-operating-system-ros-for-absolute-beginners-robotics-programming-made-easy_lentin-joseph_9781484277492\n",
    "\n",
    "Hands-On ROS for Robotics Programming\n",
    "https://bokreolen.no/hands-on-ros-for-robotics-programming-program-highly-autonomous-and-ai-capable-mobile-robots-powered-by-ros_bernardo-ronquillo-japon_9781838551308?utm_source=google-shopping&utm_medium=cpc&utm_campaign=&gad_source=1&gclid=CjwKCAiAs6-sBhBmEiwA1Nl8syd5g6X9hqqgPt12mp9fkwPrsBOEMvblz0Yi5ecsGpJ_xZaohZQVmxoC4NYQAvD_BwE"
   ]
  }
 ],
 "metadata": {
  "kernelspec": {
   "display_name": "Python 3 (ipykernel)",
   "language": "python",
   "name": "python3"
  },
  "language_info": {
   "codemirror_mode": {
    "name": "ipython",
    "version": 3
   },
   "file_extension": ".py",
   "mimetype": "text/x-python",
   "name": "python",
   "nbconvert_exporter": "python",
   "pygments_lexer": "ipython3",
   "version": "3.10.12"
  }
 },
 "nbformat": 4,
 "nbformat_minor": 5
}
